{
 "cells": [
  {
   "attachments": {},
   "cell_type": "markdown",
   "metadata": {},
   "source": [
    "# ***AC1: Funciones Continuas***\n",
    "### **MA2007B, Periodo FJ-2023**"
   ]
  },
  {
   "attachments": {},
   "cell_type": "markdown",
   "metadata": {},
   "source": [
    "### Funciones necesarias para el código"
   ]
  },
  {
   "cell_type": "code",
   "execution_count": 343,
   "metadata": {},
   "outputs": [],
   "source": [
    "from itertools import chain, combinations\n",
    "\n",
    "def applyFunc(value, func):\n",
    "    func1 = ''\n",
    "    for i in func:\n",
    "        if i == 'x':\n",
    "            func1 += '('+str(value)+')'\n",
    "        else:\n",
    "            func1 += i\n",
    "    return eval(func1)\n",
    "\n",
    "def preImage(D,I,E,func):\n",
    "    if len(set([i in I for i in E])) == 1:\n",
    "        Einv = []\n",
    "        for i in D:\n",
    "            for j in E:\n",
    "                if applyFunc(i,func) == j:\n",
    "                    Einv.append(i)\n",
    "        return sorted(list(set(Einv)))\n",
    "    else:\n",
    "        return 'E no es subconjunto de I!!!. Ingresa un conjunto E que sea subconjunto de I.'\n",
    "\n",
    "def applyFuncVars(values, func):\n",
    "    func1 = ''\n",
    "    for k in values.keys():\n",
    "        for i in func:\n",
    "            if i == k:\n",
    "                func1 += '('+str(values[k])+')'\n",
    "            elif len(func1) != len(func)+1:\n",
    "                func1 += i\n",
    "    return eval(func1)\n",
    "\n",
    "def isContinuous(D,I,tD,tI,func):\n",
    "    tD = list(map(sorted,tD))\n",
    "    tI = list(map(sorted,tI))\n",
    "    for i in tI:\n",
    "        c = 1\n",
    "        if preImage(D,I,i,func) not in tD:\n",
    "            c = 0\n",
    "            break\n",
    "    return 'Es continua' if c ==1 else 'No es continua'\n",
    "\n",
    "# Definir la función discreteTop para obtener todos los subconjuntos de un conjunto\n",
    "def discreteTop(conj):\n",
    "    return list(map(list,chain.from_iterable(combinations(conj, r) for r in range(len(conj)+1))))\n"
   ]
  },
  {
   "attachments": {},
   "cell_type": "markdown",
   "metadata": {},
   "source": [
    "## _Funciones Continuas_"
   ]
  },
  {
   "attachments": {},
   "cell_type": "markdown",
   "metadata": {},
   "source": [
    "1. Realiza una función en Python que dada una función $f$, un subconjunto $E$ y un dominio $D$, te regrese $f^{-1}(E)$. Realiza un test con la función $f: D \\to I$ dada por $D = \\{−4,−3,−2,−1,0,1,2,3,4,5,6\\}$ e $I = \\{0,1,4,9,16\\}$ y regla de asignación $x\\mapsto x^{2}$"
   ]
  },
  {
   "cell_type": "code",
   "execution_count": 349,
   "metadata": {},
   "outputs": [
    {
     "data": {
      "text/plain": [
       "[-3, -2, 2, 3]"
      ]
     },
     "execution_count": 349,
     "metadata": {},
     "output_type": "execute_result"
    }
   ],
   "source": [
    "D = [-4, -3, -2, -1, 0, 1, 2, 3, 4]\n",
    "I = [0,1,4,9,16]\n",
    "E = [4,9]\n",
    "func = 'x**2'\n",
    "preImage(D,I,E,func)"
   ]
  },
  {
   "attachments": {},
   "cell_type": "markdown",
   "metadata": {},
   "source": [
    "2. Con ayuda de la función anterior, crear una nueva tal que dada la función $f$, la topología para $D$ y para $I$ \\(en este último sin contar el vacío\\), te regrese si la función para esa topología es continua.<br>\n",
    "&ensp;&emsp;Realiza un test con la función $f : x\\mapsto x^{2}$<br>\n",
    "\n",
    "\\begin{align*}\n",
    "\\tau_{D} = \\{\\varnothing,\\{0\\},\\{−3,−1,1,3\\},\\{−4,−2,2,4\\},\\{−3,−1,0,1,3\\}, \\\\\n",
    "\\{−4,−2,0,2,4\\},\\{−4,−3,−2,−1,1,2,3,4\\},\\{−4,−3,−2,−1,0,1,2,3,4\\}\\}. \\\\\n",
    "\\tau_{I} = \\{\\varnothing,\\{0\\},\\{1,9\\},\\{4,16\\},\\{0,1,9\\},\\{0,4,16\\},\\{1,4,9,16\\},\\{0,1,4,9,16\\}\\}.\n",
    "\\end{align*}\n",
    "    "
   ]
  },
  {
   "cell_type": "code",
   "execution_count": 348,
   "metadata": {},
   "outputs": [
    {
     "data": {
      "text/plain": [
       "'Es continua'"
      ]
     },
     "execution_count": 348,
     "metadata": {},
     "output_type": "execute_result"
    }
   ],
   "source": [
    "D = [-4, -3, -2, -1, 0, 1, 2, 3, 4]\n",
    "I = [0,1,4,9,16]\n",
    "tD = [[],[0],[-3,-1,1,3],[-4,-2,2,4],[-3,-1,0,1,3],[-4,-2,0,2,4],[-4,-3,-2,-1,1,2,3,4],[-4,-3,-2,-1,0,1,2,3,4]]\n",
    "tI = [[0],[1,9],[4,16],[0,1,9],[0,4,16],[1,4,9,16],[0,1,4,9,16]]\n",
    "func = 'x**2'\n",
    "isContinuous(D,I,tD,tI,func)"
   ]
  },
  {
   "attachments": {},
   "cell_type": "markdown",
   "metadata": {},
   "source": [
    "3. Verifica si las siguientes funciones son continuas con las topologías indicadas:"
   ]
  },
  {
   "attachments": {},
   "cell_type": "markdown",
   "metadata": {},
   "source": [
    "a. $f:x\\mapsto x^{2}, D$ e $I$ como el inciso anterior.\n",
    "\\begin{align*}\n",
    "\\tau_{D} = \\{\\varnothing, D\\} \\\\\n",
    "\\tau_{I} = \\{\\varnothing, I\\}\n",
    "\\end{align*}"
   ]
  },
  {
   "cell_type": "code",
   "execution_count": 347,
   "metadata": {},
   "outputs": [
    {
     "data": {
      "text/plain": [
       "'Es continua'"
      ]
     },
     "execution_count": 347,
     "metadata": {},
     "output_type": "execute_result"
    }
   ],
   "source": [
    "D = [-4, -3, -2, -1, 0, 1, 2, 3, 4]\n",
    "I = [0,1,4,9,16]\n",
    "tD = [D]\n",
    "tI = [I]\n",
    "func = 'x**2'\n",
    "isContinuous(D,I,tD,tI,func)"
   ]
  },
  {
   "attachments": {},
   "cell_type": "markdown",
   "metadata": {},
   "source": [
    "b. $f:I\\to I, f(x)=0$ y $\\tau_{I}=2^{I}$."
   ]
  },
  {
   "cell_type": "code",
   "execution_count": 346,
   "metadata": {},
   "outputs": [
    {
     "name": "stdout",
     "output_type": "stream",
     "text": [
      "[[0], [1], [4], [9], [16], [0, 1], [0, 4], [0, 9], [0, 16], [1, 4], [1, 9], [1, 16], [4, 9], [4, 16], [9, 16], [0, 1, 4], [0, 1, 9], [0, 1, 16], [0, 4, 9], [0, 4, 16], [0, 9, 16], [1, 4, 9], [1, 4, 16], [1, 9, 16], [4, 9, 16], [0, 1, 4, 9], [0, 1, 4, 16], [0, 1, 9, 16], [0, 4, 9, 16], [1, 4, 9, 16], [0, 1, 4, 9, 16]]\n"
     ]
    },
    {
     "data": {
      "text/plain": [
       "'No es continua'"
      ]
     },
     "execution_count": 346,
     "metadata": {},
     "output_type": "execute_result"
    }
   ],
   "source": [
    "I = [0,1,4,9,16]\n",
    "tI = discreteTop(I)\n",
    "tI.remove([])\n",
    "func = '0'\n",
    "isContinuous(I,I,tI,tI,func)\n"
   ]
  },
  {
   "attachments": {},
   "cell_type": "markdown",
   "metadata": {},
   "source": [
    "c. $f:D\\to D, f(x)=-x$ y $\\tau_{D}=2^{D}$."
   ]
  },
  {
   "cell_type": "code",
   "execution_count": 345,
   "metadata": {},
   "outputs": [
    {
     "data": {
      "text/plain": [
       "'Es continua'"
      ]
     },
     "execution_count": 345,
     "metadata": {},
     "output_type": "execute_result"
    }
   ],
   "source": [
    "D = [-4, -3, -2, -1, 0, 1, 2, 3, 4]\n",
    "tD = discreteTop(D)\n",
    "tD.remove([])\n",
    "func = '-x'\n",
    "isContinuous(D,D,tD,tD,func)"
   ]
  },
  {
   "attachments": {},
   "cell_type": "markdown",
   "metadata": {},
   "source": [
    "d.$f:D\\to D, f(x)=-x$ y $\\tau_{D}=\\{\\varnothing,\\{0\\},\\{−4,−3,−2,−1\\},\\{1,2,3,4\\},\\{0,1,2,3,4\\},\\{0,−1,−2,−3,−4\\},\\{−4,−3,−2,−1,1,2,3,4\\},D\\}$."
   ]
  },
  {
   "cell_type": "code",
   "execution_count": 344,
   "metadata": {},
   "outputs": [
    {
     "data": {
      "text/plain": [
       "'Es continua'"
      ]
     },
     "execution_count": 344,
     "metadata": {},
     "output_type": "execute_result"
    }
   ],
   "source": [
    "D = [-4, -3, -2, -1, 0, 1, 2, 3, 4]\n",
    "tD = [[0],[-4,-3,-2,-1],[1,2,3,4],[0,1,2,3,4],[0,-1,-2,-3,-4],[-4,-3,-2,-1,1,2,3,4],D]\n",
    "func = '-x'\n",
    "isContinuous(D,D,tD,tD,func)"
   ]
  }
 ],
 "metadata": {
  "kernelspec": {
   "display_name": "py311",
   "language": "python",
   "name": "python3"
  },
  "language_info": {
   "codemirror_mode": {
    "name": "ipython",
    "version": 3
   },
   "file_extension": ".py",
   "mimetype": "text/x-python",
   "name": "python",
   "nbconvert_exporter": "python",
   "pygments_lexer": "ipython3",
   "version": "3.11.0"
  },
  "orig_nbformat": 4
 },
 "nbformat": 4,
 "nbformat_minor": 2
}
